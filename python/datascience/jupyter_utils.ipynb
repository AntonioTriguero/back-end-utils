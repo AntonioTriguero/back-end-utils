{
  "nbformat": 4,
  "nbformat_minor": 0,
  "metadata": {
    "colab": {
      "name": "Untitled2.ipynb",
      "provenance": [],
      "collapsed_sections": []
    },
    "kernelspec": {
      "name": "python3",
      "display_name": "Python 3"
    },
    "language_info": {
      "name": "python"
    }
  },
  "cells": [
    {
      "cell_type": "code",
      "metadata": {
        "id": "w6lgjdvf5CH7"
      },
      "source": [
        "!pip install selenium googletrans==3.1.0a0\n",
        "!apt-get update # to update ubuntu to correctly run apt install\n",
        "!apt install chromium-chromedriver\n",
        "!cp /usr/lib/chromium-browser/chromedriver /usr/bin"
      ],
      "execution_count": null,
      "outputs": []
    },
    {
      "cell_type": "code",
      "metadata": {
        "id": "gGJzRw4o253P"
      },
      "source": [
        "from selenium import webdriver\n",
        "from bs4 import BeautifulSoup\n",
        "import requests\n",
        "import sys\n",
        "\n",
        "def render_url(url):\n",
        "  sys.path.insert(0,'/usr/lib/chromium-browser/chromedriver')\n",
        "  from selenium import webdriver\n",
        "  chrome_options = webdriver.ChromeOptions()\n",
        "  chrome_options.add_argument('--headless')\n",
        "  chrome_options.add_argument('--no-sandbox')\n",
        "  chrome_options.add_argument('--disable-dev-shm-usage')\n",
        "  wd = webdriver.Chrome('chromedriver', chrome_options=chrome_options)\n",
        "\n",
        "  wd.get(url)\n",
        "  \n",
        "  content = wd.execute_script(\"return document.getElementsByTagName('html')[0].innerHTML\")\n",
        "  soup = BeautifulSoup(content, 'html.parser')\n",
        "  wd.quit()\n",
        "  return content\n",
        "'https://www.flashscore.es/partido/pYmD1D1L/#resumen-del-partido/estadisticas-del-partido/1'\n",
        "soup = BeautifulSoup(content, 'html.parser')"
      ],
      "execution_count": null,
      "outputs": []
    }
  ]
}
